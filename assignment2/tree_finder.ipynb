{
 "cells": [
  {
   "cell_type": "code",
   "execution_count": 1,
   "id": "e595e0bc-11a1-403e-b319-69ae26833205",
   "metadata": {},
   "outputs": [
    {
     "name": "stdout",
     "output_type": "stream",
     "text": [
      "/Users/Ev1/.zshenv:.:1: no such file or directory: /Users/Ev1/.cargo/env\n",
      "Requirement already satisfied: lazrs in /Users/Ev1/.pyenv/versions/3.11.4/lib/python3.11/site-packages (0.5.2)\n",
      "\n",
      "\u001b[1m[\u001b[0m\u001b[34;49mnotice\u001b[0m\u001b[1;39;49m]\u001b[0m\u001b[39;49m A new release of pip is available: \u001b[0m\u001b[31;49m23.2.1\u001b[0m\u001b[39;49m -> \u001b[0m\u001b[32;49m23.3.1\u001b[0m\n",
      "\u001b[1m[\u001b[0m\u001b[34;49mnotice\u001b[0m\u001b[1;39;49m]\u001b[0m\u001b[39;49m To update, run: \u001b[0m\u001b[32;49m/Users/Ev1/.pyenv/versions/3.11.4/bin/python3.11 -m pip install --upgrade pip\u001b[0m\n",
      "Note: you may need to restart the kernel to use updated packages.\n"
     ]
    }
   ],
   "source": [
    "pip install lazrs"
   ]
  },
  {
   "cell_type": "code",
   "execution_count": 1,
   "id": "38dbfbe5-dec1-43aa-921c-3b4b579f4adf",
   "metadata": {},
   "outputs": [
    {
     "name": "stdout",
     "output_type": "stream",
     "text": [
      "/Users/Ev1/.zshenv:.:1: no such file or directory: /Users/Ev1/.cargo/env\n",
      "Requirement already satisfied: open3d in /Users/Ev1/miniconda3/envs/myenv/lib/python3.10/site-packages (0.16.1)\n",
      "Requirement already satisfied: numpy>=1.18.0 in /Users/Ev1/miniconda3/envs/myenv/lib/python3.10/site-packages (from open3d) (1.26.0)\n",
      "Requirement already satisfied: dash>=2.6.0 in /Users/Ev1/miniconda3/envs/myenv/lib/python3.10/site-packages (from open3d) (2.13.0)\n",
      "Requirement already satisfied: nbformat==5.5.0 in /Users/Ev1/miniconda3/envs/myenv/lib/python3.10/site-packages (from open3d) (5.5.0)\n",
      "Requirement already satisfied: configargparse in /Users/Ev1/miniconda3/envs/myenv/lib/python3.10/site-packages (from open3d) (1.7)\n",
      "Requirement already satisfied: addict in /Users/Ev1/miniconda3/envs/myenv/lib/python3.10/site-packages (from open3d) (2.4.0)\n",
      "Requirement already satisfied: pillow>=8.2.0 in /Users/Ev1/miniconda3/envs/myenv/lib/python3.10/site-packages (from open3d) (10.0.1)\n",
      "Requirement already satisfied: matplotlib>=3 in /Users/Ev1/miniconda3/envs/myenv/lib/python3.10/site-packages (from open3d) (3.8.0)\n",
      "Requirement already satisfied: pandas>=1.0 in /Users/Ev1/miniconda3/envs/myenv/lib/python3.10/site-packages (from open3d) (2.1.1)\n",
      "Requirement already satisfied: pyyaml>=5.4.1 in /Users/Ev1/miniconda3/envs/myenv/lib/python3.10/site-packages (from open3d) (6.0.1)\n",
      "Requirement already satisfied: scikit-learn>=0.21 in /Users/Ev1/miniconda3/envs/myenv/lib/python3.10/site-packages (from open3d) (1.3.1)\n",
      "Requirement already satisfied: tqdm in /Users/Ev1/miniconda3/envs/myenv/lib/python3.10/site-packages (from open3d) (4.66.1)\n",
      "Requirement already satisfied: pyquaternion in /Users/Ev1/miniconda3/envs/myenv/lib/python3.10/site-packages (from open3d) (0.9.9)\n",
      "Requirement already satisfied: fastjsonschema in /Users/Ev1/miniconda3/envs/myenv/lib/python3.10/site-packages (from nbformat==5.5.0->open3d) (2.18.1)\n",
      "Requirement already satisfied: jsonschema>=2.6 in /Users/Ev1/miniconda3/envs/myenv/lib/python3.10/site-packages (from nbformat==5.5.0->open3d) (4.19.1)\n",
      "Requirement already satisfied: jupyter_core in /Users/Ev1/miniconda3/envs/myenv/lib/python3.10/site-packages (from nbformat==5.5.0->open3d) (5.4.0)\n",
      "Requirement already satisfied: traitlets>=5.1 in /Users/Ev1/miniconda3/envs/myenv/lib/python3.10/site-packages (from nbformat==5.5.0->open3d) (5.11.2)\n",
      "Requirement already satisfied: Flask<2.3.0,>=1.0.4 in /Users/Ev1/miniconda3/envs/myenv/lib/python3.10/site-packages (from dash>=2.6.0->open3d) (2.2.5)\n",
      "Requirement already satisfied: Werkzeug<2.3.0 in /Users/Ev1/miniconda3/envs/myenv/lib/python3.10/site-packages (from dash>=2.6.0->open3d) (2.2.3)\n",
      "Requirement already satisfied: plotly>=5.0.0 in /Users/Ev1/miniconda3/envs/myenv/lib/python3.10/site-packages (from dash>=2.6.0->open3d) (5.17.0)\n",
      "Requirement already satisfied: dash-html-components==2.0.0 in /Users/Ev1/miniconda3/envs/myenv/lib/python3.10/site-packages (from dash>=2.6.0->open3d) (2.0.0)\n",
      "Requirement already satisfied: dash-core-components==2.0.0 in /Users/Ev1/miniconda3/envs/myenv/lib/python3.10/site-packages (from dash>=2.6.0->open3d) (2.0.0)\n",
      "Requirement already satisfied: dash-table==5.0.0 in /Users/Ev1/miniconda3/envs/myenv/lib/python3.10/site-packages (from dash>=2.6.0->open3d) (5.0.0)\n",
      "Requirement already satisfied: typing-extensions>=4.1.1 in /Users/Ev1/miniconda3/envs/myenv/lib/python3.10/site-packages (from dash>=2.6.0->open3d) (4.8.0)\n",
      "Requirement already satisfied: requests in /Users/Ev1/miniconda3/envs/myenv/lib/python3.10/site-packages (from dash>=2.6.0->open3d) (2.31.0)\n",
      "Requirement already satisfied: retrying in /Users/Ev1/miniconda3/envs/myenv/lib/python3.10/site-packages (from dash>=2.6.0->open3d) (1.3.4)\n",
      "Requirement already satisfied: ansi2html in /Users/Ev1/miniconda3/envs/myenv/lib/python3.10/site-packages (from dash>=2.6.0->open3d) (1.8.0)\n",
      "Requirement already satisfied: nest-asyncio in /Users/Ev1/miniconda3/envs/myenv/lib/python3.10/site-packages (from dash>=2.6.0->open3d) (1.5.8)\n",
      "Requirement already satisfied: setuptools in /Users/Ev1/miniconda3/envs/myenv/lib/python3.10/site-packages (from dash>=2.6.0->open3d) (68.0.0)\n",
      "Requirement already satisfied: contourpy>=1.0.1 in /Users/Ev1/miniconda3/envs/myenv/lib/python3.10/site-packages (from matplotlib>=3->open3d) (1.1.1)\n",
      "Requirement already satisfied: cycler>=0.10 in /Users/Ev1/miniconda3/envs/myenv/lib/python3.10/site-packages (from matplotlib>=3->open3d) (0.12.1)\n",
      "Requirement already satisfied: fonttools>=4.22.0 in /Users/Ev1/miniconda3/envs/myenv/lib/python3.10/site-packages (from matplotlib>=3->open3d) (4.43.1)\n",
      "Requirement already satisfied: kiwisolver>=1.0.1 in /Users/Ev1/miniconda3/envs/myenv/lib/python3.10/site-packages (from matplotlib>=3->open3d) (1.4.5)\n",
      "Requirement already satisfied: packaging>=20.0 in /Users/Ev1/miniconda3/envs/myenv/lib/python3.10/site-packages (from matplotlib>=3->open3d) (23.2)\n",
      "Requirement already satisfied: pyparsing>=2.3.1 in /Users/Ev1/miniconda3/envs/myenv/lib/python3.10/site-packages (from matplotlib>=3->open3d) (3.1.1)\n",
      "Requirement already satisfied: python-dateutil>=2.7 in /Users/Ev1/miniconda3/envs/myenv/lib/python3.10/site-packages (from matplotlib>=3->open3d) (2.8.2)\n",
      "Requirement already satisfied: pytz>=2020.1 in /Users/Ev1/miniconda3/envs/myenv/lib/python3.10/site-packages (from pandas>=1.0->open3d) (2023.3.post1)\n",
      "Requirement already satisfied: tzdata>=2022.1 in /Users/Ev1/miniconda3/envs/myenv/lib/python3.10/site-packages (from pandas>=1.0->open3d) (2023.3)\n",
      "Requirement already satisfied: scipy>=1.5.0 in /Users/Ev1/miniconda3/envs/myenv/lib/python3.10/site-packages (from scikit-learn>=0.21->open3d) (1.11.3)\n",
      "Requirement already satisfied: joblib>=1.1.1 in /Users/Ev1/miniconda3/envs/myenv/lib/python3.10/site-packages (from scikit-learn>=0.21->open3d) (1.3.2)\n",
      "Requirement already satisfied: threadpoolctl>=2.0.0 in /Users/Ev1/miniconda3/envs/myenv/lib/python3.10/site-packages (from scikit-learn>=0.21->open3d) (3.2.0)\n",
      "Requirement already satisfied: Jinja2>=3.0 in /Users/Ev1/miniconda3/envs/myenv/lib/python3.10/site-packages (from Flask<2.3.0,>=1.0.4->dash>=2.6.0->open3d) (3.1.2)\n",
      "Requirement already satisfied: itsdangerous>=2.0 in /Users/Ev1/miniconda3/envs/myenv/lib/python3.10/site-packages (from Flask<2.3.0,>=1.0.4->dash>=2.6.0->open3d) (2.1.2)\n",
      "Requirement already satisfied: click>=8.0 in /Users/Ev1/miniconda3/envs/myenv/lib/python3.10/site-packages (from Flask<2.3.0,>=1.0.4->dash>=2.6.0->open3d) (8.1.7)\n",
      "Requirement already satisfied: attrs>=22.2.0 in /Users/Ev1/miniconda3/envs/myenv/lib/python3.10/site-packages (from jsonschema>=2.6->nbformat==5.5.0->open3d) (23.1.0)\n",
      "Requirement already satisfied: jsonschema-specifications>=2023.03.6 in /Users/Ev1/miniconda3/envs/myenv/lib/python3.10/site-packages (from jsonschema>=2.6->nbformat==5.5.0->open3d) (2023.7.1)\n",
      "Requirement already satisfied: referencing>=0.28.4 in /Users/Ev1/miniconda3/envs/myenv/lib/python3.10/site-packages (from jsonschema>=2.6->nbformat==5.5.0->open3d) (0.30.2)\n",
      "Requirement already satisfied: rpds-py>=0.7.1 in /Users/Ev1/miniconda3/envs/myenv/lib/python3.10/site-packages (from jsonschema>=2.6->nbformat==5.5.0->open3d) (0.10.4)\n",
      "Requirement already satisfied: tenacity>=6.2.0 in /Users/Ev1/miniconda3/envs/myenv/lib/python3.10/site-packages (from plotly>=5.0.0->dash>=2.6.0->open3d) (8.2.3)\n",
      "Requirement already satisfied: six>=1.5 in /Users/Ev1/miniconda3/envs/myenv/lib/python3.10/site-packages (from python-dateutil>=2.7->matplotlib>=3->open3d) (1.16.0)\n",
      "Requirement already satisfied: MarkupSafe>=2.1.1 in /Users/Ev1/miniconda3/envs/myenv/lib/python3.10/site-packages (from Werkzeug<2.3.0->dash>=2.6.0->open3d) (2.1.3)\n",
      "Requirement already satisfied: platformdirs>=2.5 in /Users/Ev1/miniconda3/envs/myenv/lib/python3.10/site-packages (from jupyter_core->nbformat==5.5.0->open3d) (3.11.0)\n",
      "Requirement already satisfied: charset-normalizer<4,>=2 in /Users/Ev1/miniconda3/envs/myenv/lib/python3.10/site-packages (from requests->dash>=2.6.0->open3d) (3.3.0)\n",
      "Requirement already satisfied: idna<4,>=2.5 in /Users/Ev1/miniconda3/envs/myenv/lib/python3.10/site-packages (from requests->dash>=2.6.0->open3d) (3.4)\n",
      "Requirement already satisfied: urllib3<3,>=1.21.1 in /Users/Ev1/miniconda3/envs/myenv/lib/python3.10/site-packages (from requests->dash>=2.6.0->open3d) (2.0.6)\n",
      "Requirement already satisfied: certifi>=2017.4.17 in /Users/Ev1/miniconda3/envs/myenv/lib/python3.10/site-packages (from requests->dash>=2.6.0->open3d) (2023.7.22)\n",
      "Note: you may need to restart the kernel to use updated packages.\n"
     ]
    }
   ],
   "source": [
    "pip install open3d"
   ]
  },
  {
   "cell_type": "code",
   "execution_count": 2,
   "id": "eebd36ab-63e5-45ab-80c0-2b88a244b459",
   "metadata": {},
   "outputs": [],
   "source": [
    "import laspy\n",
    "import numpy as np\n",
    "from sklearn import linear_model\n",
    "import open3d as o3d\n",
    "import os\n",
    "import matplotlib.pyplot as plt"
   ]
  },
  {
   "cell_type": "code",
   "execution_count": 5,
   "id": "f1c7e867-bfab-4fcc-9bb3-714b74292204",
   "metadata": {},
   "outputs": [],
   "source": [
    "\n",
    "def read_las_file(las_path):\n",
    "    # Read the LAS file\n",
    "    las_data = laspy.read(las_path)\n",
    "\n",
    "    # Extract the points and classifications from the LAS file\n",
    "    points = np.vstack((las_data.x, las_data.y, las_data.z)).transpose()\n",
    "\n",
    "    # Create an Open3D PointCloud object\n",
    "    pcd = o3d.geometry.PointCloud()\n",
    "    pcd.points = o3d.utility.Vector3dVector(points)\n",
    "\n",
    "    #return as point cloud\n",
    "    return pcd\n",
    "\n",
    "\n",
    "pcd = read_las_file(\"off-ground-points.las\")"
   ]
  },
  {
   "cell_type": "code",
   "execution_count": 20,
   "id": "7201eaf4-9439-4ac3-81d4-ee159f5d15f0",
   "metadata": {},
   "outputs": [],
   "source": [
    "o3d.visualization.draw_geometries([pcd])\n",
    "num = len(pcd.points)"
   ]
  },
  {
   "cell_type": "code",
   "execution_count": 39,
   "id": "edd0801e-80d8-4f69-8326-b7cda15203fa",
   "metadata": {},
   "outputs": [
    {
     "name": "stdout",
     "output_type": "stream",
     "text": [
      "Number of points after downsampling reduced from 18919717 to 21\n",
      " 99.99988900468226 % less points\n"
     ]
    }
   ],
   "source": [
    "#downsample cloud\n",
    "downpcd = pcd.voxel_down_sample(voxel_size=0.1)\n",
    "num2 = len(downpcd.points)\n",
    "print(f'Number of points after downsampling reduced from {num} to {num2}')\n",
    "print(f' {100-(num2/num * 100)} % less points')\n",
    "#o3d.visualization.draw_geometries([downpcd])"
   ]
  },
  {
   "cell_type": "code",
   "execution_count": 25,
   "id": "16811fab-f42a-4430-8d85-d529802a54ac",
   "metadata": {},
   "outputs": [
    {
     "name": "stdout",
     "output_type": "stream",
     "text": [
      "reduced from 3305786 to 2587112 points\n",
      " 21.739882738931072 % less points\n"
     ]
    }
   ],
   "source": [
    "#statistical outlier removal\n",
    "\n",
    "cld, ind = downpcd.remove_statistical_outlier(nb_neighbors=20, std_ratio=0.2)\n",
    "num3 = len(cld.points)\n",
    "print(f'reduced from {num2} to {num3} points')\n",
    "print(f' {100-(num3/num2 * 100)} % less points')"
   ]
  },
  {
   "cell_type": "code",
   "execution_count": null,
   "id": "314ed5b4-da5d-482e-8281-d09f28c36a9b",
   "metadata": {},
   "outputs": [],
   "source": []
  },
  {
   "cell_type": "code",
   "execution_count": 40,
   "id": "f6242572-1410-4ff5-87b9-ae670c63070c",
   "metadata": {},
   "outputs": [],
   "source": [
    "import open3d as o3d\n",
    "import numpy as np\n",
    "\n",
    "# Assuming `pcd` is your point cloud loaded into an o3d.geometry.PointCloud object\n",
    "points = np.asarray(cld.points)\n",
    "\n",
    "# define slice levels\n",
    "z_levels = [0.1, 0.4, 0.7]  \n",
    "\n",
    "# Create an empty point cloud for the slices\n",
    "slices_pcd = o3d.geometry.PointCloud()\n",
    "\n",
    "for z in z_levels:\n",
    "    # Define a threshold for the slice thickness\n",
    "    z_threshold = 0.05\n",
    "    # Select points that fall within the Z level +/- threshold\n",
    "    slice_mask = (points[:, 2] > (z - z_threshold)) & (points[:, 2] < (z + z_threshold))\n",
    "    slice_points = points[slice_mask, :3]  # Keep XYZ coordinates for the slice\n",
    "    \n",
    "    # Append slice points to the slices_pcd point cloud\n",
    "    if len(slice_points) > 0:\n",
    "        slice_pcd = o3d.geometry.PointCloud()\n",
    "        slice_pcd.points = o3d.utility.Vector3dVector(slice_points)\n",
    "        slices_pcd += slice_pcd  # Merge the slice into the main slices point cloud\n",
    "\n",
    "# Visualize all slices together\n",
    "o3d.visualization.draw_geometries([slices_pcd])\n"
   ]
  },
  {
   "cell_type": "code",
   "execution_count": 10,
   "id": "6ba797eb-22f2-4d24-a75d-377ce29d6ceb",
   "metadata": {},
   "outputs": [
    {
     "name": "stdout",
     "output_type": "stream",
     "text": [
      "Visualizing slice at Z level: 0.5\n",
      "Visualizing slice at Z level: 1.5\n",
      "Visualizing slice at Z level: 2.5\n"
     ]
    }
   ],
   "source": [
    "for i, slice_points in enumerate(slices):\n",
    "    # Create a point cloud object for the slice\n",
    "    slice_pcd = o3d.geometry.PointCloud()\n",
    "    slice_pcd.points = o3d.utility.Vector3dVector(np.hstack((slice_points, np.zeros((slice_points.shape[0], 1))))) # Add back Z coordinate as 0\n",
    "    # Visualize the slice\n",
    "    print(f\"Visualizing slice at Z level: {z_levels[i]}\")\n",
    "    o3d.visualization.draw_geometries([slice_pcd])\n"
   ]
  },
  {
   "cell_type": "code",
   "execution_count": 41,
   "id": "c92e1fde-5fb7-44f0-a087-bdd4671f6b2a",
   "metadata": {},
   "outputs": [
    {
     "name": "stdout",
     "output_type": "stream",
     "text": [
      "[Open3D DEBUG] Precompute neighbors.\n",
      "[Open3D DEBUG] Done Precompute neighbors.\n",
      "[Open3D DEBUG] Compute Clusters\n",
      "[Open3D DEBUG] Done Compute Clusters: 368                     ] 2%\n",
      "Precompute neighbors.[================>           point cloud has 368 clusters\n",
      "Precompute neighbors.[========================================] 100%\n",
      "Clustering[=======================================>] 97%\r"
     ]
    }
   ],
   "source": [
    "# We find clusters\n",
    "with o3d.utility.VerbosityContextManager(o3d.utility.VerbosityLevel.Debug) as cm:\n",
    "    labels = np.array(slices_pcd.cluster_dbscan(eps=0.5, min_points=5, print_progress=True))\n",
    "max_label = labels.max()\n",
    "print(f\"point cloud has {max_label + 1} clusters\")\n",
    "colors = plt.get_cmap(\"tab20\")(labels / (max_label if max_label > 0 else 1))\n",
    "colors[labels < 0] = 0\n",
    "slices_pcd.colors = o3d.utility.Vector3dVector(colors[:, :3])"
   ]
  },
  {
   "cell_type": "code",
   "execution_count": 42,
   "id": "43f4ede9-b5f5-4d5b-b8f4-d2645f9761b5",
   "metadata": {},
   "outputs": [],
   "source": [
    "o3d.visualization.draw_geometries([slices_pcd])"
   ]
  },
  {
   "cell_type": "code",
   "execution_count": 36,
   "id": "915c4f6a-b021-4791-acd7-c07569981b4e",
   "metadata": {},
   "outputs": [
    {
     "data": {
      "text/plain": [
       "161"
      ]
     },
     "execution_count": 36,
     "metadata": {},
     "output_type": "execute_result"
    }
   ],
   "source": [
    "# Get individual point clouds\n",
    "point_clouds = []\n",
    "for cluster_label in range(max_label + 1):\n",
    "    \n",
    "    cluster_indices = np.where(labels == cluster_label)[0]\n",
    "    \n",
    "    cluster_points = slices_pcd.select_by_index(cluster_indices)\n",
    "\n",
    "    #We only include the individual point cloud if over a certain size\n",
    "    cluster_size = len(cluster_points.points)\n",
    "    if(20< cluster_size < 100):\n",
    "        point_clouds.append(cluster_points)\n",
    "len(point_clouds)"
   ]
  },
  {
   "cell_type": "code",
   "execution_count": 43,
   "id": "1efa9629-c35c-4993-89bc-6760e7383681",
   "metadata": {},
   "outputs": [],
   "source": [
    "# Initialize an empty point cloud for the combined data\n",
    "combined_cloud = o3d.geometry.PointCloud()\n",
    "\n",
    "# Iterate over each individual point cloud and append its data to the combined point cloud\n",
    "for pcd in point_clouds:\n",
    "    combined_cloud += pcd\n",
    "\n",
    "# Visualize the combined point cloud\n",
    "o3d.visualization.draw_geometries([combined_cloud])\n",
    "\n"
   ]
  },
  {
   "cell_type": "code",
   "execution_count": 44,
   "id": "5b01133b-b0e2-4453-9bfd-bc17a18b2c02",
   "metadata": {},
   "outputs": [],
   "source": [
    "\n",
    "\n",
    "# Initialize an empty list to store 2D points of all clusters\n",
    "combined_2d_points = []\n",
    "\n",
    "# Iterate over each individual point cloud\n",
    "for pcd in point_clouds:\n",
    "    # Convert to numpy array\n",
    "    points = np.asarray(pcd.points)\n",
    "    # Flatten the Z-coordinate\n",
    "    points_2d = points[:, :2]\n",
    "    combined_2d_points.append(points_2d)\n",
    "\n",
    "# Combine all 2D points\n",
    "combined_2d_points = np.vstack(combined_2d_points)\n",
    "\n",
    "# Create a new point cloud for the 2D points\n",
    "combined_2d_cloud = o3d.geometry.PointCloud()\n",
    "combined_2d_cloud.points = o3d.utility.Vector3dVector(np.hstack((combined_2d_points, np.zeros((combined_2d_points.shape[0], 1)))))\n",
    "\n",
    "# Visualize the 2D accumulated point cloud\n",
    "o3d.visualization.draw_geometries([combined_2d_cloud])\n"
   ]
  },
  {
   "cell_type": "code",
   "execution_count": 45,
   "id": "32224d50-1c78-479d-9d0b-443dccc078e8",
   "metadata": {},
   "outputs": [
    {
     "ename": "TypeError",
     "evalue": "RANSACRegressor.__init__() got an unexpected keyword argument 'base_estimator'",
     "output_type": "error",
     "traceback": [
      "\u001b[0;31m---------------------------------------------------------------------------\u001b[0m",
      "\u001b[0;31mTypeError\u001b[0m                                 Traceback (most recent call last)",
      "Cell \u001b[0;32mIn[45], line 45\u001b[0m\n\u001b[1;32m     42\u001b[0m         \u001b[38;5;28;01mreturn\u001b[39;00m circle\n\u001b[1;32m     44\u001b[0m \u001b[38;5;66;03m# Use RANSAC to fit the circle model\u001b[39;00m\n\u001b[0;32m---> 45\u001b[0m ransac \u001b[38;5;241m=\u001b[39m \u001b[43mlinear_model\u001b[49m\u001b[38;5;241;43m.\u001b[39;49m\u001b[43mRANSACRegressor\u001b[49m\u001b[43m(\u001b[49m\u001b[43mbase_estimator\u001b[49m\u001b[38;5;241;43m=\u001b[39;49m\u001b[43mCircleModel\u001b[49m\u001b[43m(\u001b[49m\u001b[43m)\u001b[49m\u001b[43m,\u001b[49m\u001b[43m \u001b[49m\u001b[43mmin_samples\u001b[49m\u001b[38;5;241;43m=\u001b[39;49m\u001b[38;5;241;43m3\u001b[39;49m\u001b[43m,\u001b[49m\u001b[43m \u001b[49m\u001b[43mresidual_threshold\u001b[49m\u001b[38;5;241;43m=\u001b[39;49m\u001b[38;5;241;43m0.1\u001b[39;49m\u001b[43m,\u001b[49m\u001b[43m \u001b[49m\u001b[43mmax_trials\u001b[49m\u001b[38;5;241;43m=\u001b[39;49m\u001b[38;5;241;43m1000\u001b[39;49m\u001b[43m)\u001b[49m\n\u001b[1;32m     47\u001b[0m \u001b[38;5;66;03m# Assuming `combined_2d_points` is a Nx2 array with your 2D points\u001b[39;00m\n\u001b[1;32m     48\u001b[0m ransac\u001b[38;5;241m.\u001b[39mfit(combined_2d_points, np\u001b[38;5;241m.\u001b[39mzeros(combined_2d_points\u001b[38;5;241m.\u001b[39mshape[\u001b[38;5;241m0\u001b[39m]))\n",
      "\u001b[0;31mTypeError\u001b[0m: RANSACRegressor.__init__() got an unexpected keyword argument 'base_estimator'"
     ]
    }
   ],
   "source": [
    "import numpy as np\n",
    "from sklearn import linear_model\n",
    "from scipy.optimize import least_squares\n",
    "\n",
    "# Define the function to estimate the circle parameters from three points\n",
    "def estimate_circle(params, x, y):\n",
    "    x_c, y_c, r = params\n",
    "    return np.sqrt((x - x_c)**2 + (y - y_c)**2) - r\n",
    "\n",
    "# Define the circle model for RANSAC\n",
    "class CircleModel:\n",
    "    def __init__(self):\n",
    "        self.params = None\n",
    "\n",
    "    def estimate(self, X):\n",
    "        # Estimate the circle parameters from three points\n",
    "        x1, y1 = X[0]\n",
    "        x2, y2 = X[1]\n",
    "        x3, y3 = X[2]\n",
    "\n",
    "        # Solving the circle equation using least squares optimization\n",
    "        # Initial guess for circle center is the mean of the points, with a radius equal to the mean distance to the center\n",
    "        x_c = np.mean([x1, x2, x3])\n",
    "        y_c = np.mean([y1, y2, y3])\n",
    "        r_initial = np.mean(np.sqrt((x_c - [x1, x2, x3])**2 + (y_c - [y1, y2, y3])**2))\n",
    "\n",
    "        result = least_squares(estimate_circle, x0=np.array([x_c, y_c, r_initial]), args=(np.array([x1, x2, x3]), np.array([y1, y2, y3])))\n",
    "        \n",
    "        self.params = result.x\n",
    "        return True\n",
    "\n",
    "    def residuals(self, X):\n",
    "        # Compute the distance to the circle for each point\n",
    "        x_c, y_c, r = self.params\n",
    "        x = X[:, 0]\n",
    "        y = X[:, 1]\n",
    "        return np.abs(np.sqrt((x - x_c)**2 + (y - y_c)**2) - r)\n",
    "\n",
    "    def predict_xy(self, r):\n",
    "        # Return the circle points (for visualization)\n",
    "        circle = plt.Circle((self.params[0], self.params[1]), self.params[2], color='blue', fill=False)\n",
    "        return circle\n",
    "\n",
    "# Use RANSAC to fit the circle model\n",
    "ransac = linear_model.RANSACRegressor(base_estimator=CircleModel(), min_samples=3, residual_threshold=0.1, max_trials=1000)\n",
    "\n",
    "# Assuming `combined_2d_points` is a Nx2 array with your 2D points\n",
    "ransac.fit(combined_2d_points, np.zeros(combined_2d_points.shape[0]))\n",
    "\n",
    "# Extract the circle parameters\n",
    "circle_params = ransac.estimator_.params\n",
    "print(f\"Estimated circle parameters: Center ({circle_params[0]}, {circle_params[1]}), Radius {circle_params[2]}\")\n",
    "\n",
    "# For visualization, you can use matplotlib to draw the circle\n",
    "import matplotlib.pyplot as plt\n",
    "\n",
    "fig, ax = plt.subplots()\n",
    "# Plot the 2D points\n",
    "ax.scatter(combined_2d_points[:, 0], combined_2d_points[:, 1], color='black')\n",
    "# Plot the detected circle\n",
    "circle = plt.Circle((circle_params[0], circle_params[1]), circle_params[2], color='blue', fill=False)\n",
    "ax.add_artist(circle)\n",
    "ax.set_aspect('equal', 'box')\n",
    "plt.show()\n"
   ]
  },
  {
   "cell_type": "code",
   "execution_count": null,
   "id": "c8371621-f53c-4695-810b-2e10d40ce5c3",
   "metadata": {},
   "outputs": [],
   "source": []
  }
 ],
 "metadata": {
  "kernelspec": {
   "display_name": "Python 3 (ipykernel)",
   "language": "python",
   "name": "python3"
  },
  "language_info": {
   "codemirror_mode": {
    "name": "ipython",
    "version": 3
   },
   "file_extension": ".py",
   "mimetype": "text/x-python",
   "name": "python",
   "nbconvert_exporter": "python",
   "pygments_lexer": "ipython3",
   "version": "3.10.13"
  }
 },
 "nbformat": 4,
 "nbformat_minor": 5
}
