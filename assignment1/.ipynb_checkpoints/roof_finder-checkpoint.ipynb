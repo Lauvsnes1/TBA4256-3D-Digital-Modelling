{
 "cells": [
  {
   "cell_type": "code",
   "execution_count": 1,
   "id": "4cc39d25-c44d-47f0-bee6-af8422a84b76",
   "metadata": {},
   "outputs": [
    {
     "name": "stdout",
     "output_type": "stream",
     "text": [
      "/Users/Ev1/.zshenv:.:1: no such file or directory: /Users/Ev1/.cargo/env\n",
      "Requirement already satisfied: lazrs in /Users/Ev1/miniconda3/envs/myenv/lib/python3.10/site-packages (0.5.2)\n",
      "Note: you may need to restart the kernel to use updated packages.\n"
     ]
    }
   ],
   "source": [
    "pip install lazrs"
   ]
  },
  {
   "cell_type": "code",
   "execution_count": 2,
   "id": "778ea5d6-61f8-4ce5-8e56-ab06495a7fe8",
   "metadata": {},
   "outputs": [],
   "source": [
    "import laspy\n",
    "import numpy as np\n",
    "from sklearn import linear_model\n",
    "import open3d as o3d\n",
    "import os\n",
    "import matplotlib.pyplot as plt"
   ]
  },
  {
   "cell_type": "code",
   "execution_count": 3,
   "id": "fa34a5c2-544d-4ede-b53a-d836f863b6e6",
   "metadata": {},
   "outputs": [
    {
     "name": "stdout",
     "output_type": "stream",
     "text": [
      "reduced from 22754456 to 12358405 points\n",
      " 45.68797865349978 % less points\n"
     ]
    }
   ],
   "source": [
    "las_path = \"data.laz\"\n",
    "las_data = laspy.read(las_path)\n",
    "\n",
    "\n",
    "def filter_by_classification(las_path, desired_classification=1):\n",
    "    # Read the LAS file\n",
    "    las_data = laspy.read(las_path)\n",
    "\n",
    "    # Extract the points and classifications from the LAS file\n",
    "    points = np.vstack((las_data.x, las_data.y, las_data.z)).transpose()\n",
    "    classifications = las_data.classification\n",
    "    \n",
    "    # Filter points based on the desired classification\n",
    "    filtered_points = points[classifications == desired_classification]\n",
    "\n",
    "    # Create an Open3D PointCloud object\n",
    "    pcd = o3d.geometry.PointCloud()\n",
    "    pcd.points = o3d.utility.Vector3dVector(filtered_points)\n",
    "    num0 = points.shape[0]\n",
    "    num1 = filtered_points.shape[0]\n",
    "    print(f'reduced from {num0} to {num1} points')\n",
    "    print(f' {100-(num1/num0 * 100)} % less points')\n",
    "\n",
    "    return pcd\n",
    "\n",
    "# Usage\n",
    "pcd = filter_by_classification(\"data.laz\")\n"
   ]
  },
  {
   "cell_type": "code",
   "execution_count": 4,
   "id": "0ee77039-f088-4579-abe3-2729ccfdc7c6",
   "metadata": {},
   "outputs": [
    {
     "data": {
      "image/png": "[encoded data removed]",
      "text/plain": [
       "<Figure size 1000x600 with 1 Axes>"
      ]
     },
     "metadata": {},
     "output_type": "display_data"
    }
   ],
   "source": [
    "# Height histogram\n",
    "\n",
    "# Convert the point cloud to a numpy array\n",
    "points = np.asarray(pcd.points)\n",
    "\n",
    "# Assuming dataset is your point cloud data as a numpy array\n",
    "z_values = points[:, 2]\n",
    "\n",
    "plt.figure(figsize=(10, 6))\n",
    "plt.hist(z_values, bins=100, color='blue', alpha=0.7)\n",
    "plt.xlabel('Height (Z) Value')\n",
    "plt.ylabel('Number of Points')\n",
    "plt.title('Histogram of Height Values')\n",
    "plt.grid(True)\n",
    "plt.show()\n"
   ]
  },
  {
   "cell_type": "code",
   "execution_count": 5,
   "id": "65f539b6-dc6e-4b22-a094-7d411c2c77ec",
   "metadata": {},
   "outputs": [],
   "source": [
    "# Visualize the point cloud using Open3D\n",
    "#o3d.visualization.draw_geometries([pcd])\n",
    "num = len(pcd.points)"
   ]
  },
  {
   "cell_type": "code",
   "execution_count": 6,
   "id": "927c8f7c-e967-4eb1-a078-5b1f1052bd67",
   "metadata": {},
   "outputs": [
    {
     "name": "stdout",
     "output_type": "stream",
     "text": [
      "Number of points after downsampling reduced from 12358405 to 6593900\n",
      " 46.644409209764525 % less points\n"
     ]
    }
   ],
   "source": [
    "#downsample cloud\n",
    "downpcd = pcd.voxel_down_sample(voxel_size=0.25)\n",
    "num2 = len(downpcd.points)\n",
    "print(f'Number of points after downsampling reduced from {num} to {num2}')\n",
    "print(f' {100-(num2/num * 100)} % less points')\n",
    "#o3d.visualization.draw_geometries([downpcd])"
   ]
  },
  {
   "cell_type": "code",
   "execution_count": 7,
   "id": "47c8c168-13b1-40af-885d-921f5e61fb61",
   "metadata": {},
   "outputs": [
    {
     "name": "stdout",
     "output_type": "stream",
     "text": [
      "reduced from 6593900 to 5670210 points\n",
      " 14.00825004928798 % less points\n"
     ]
    }
   ],
   "source": [
    "#statistical outlier removal\n",
    "\n",
    "cld, ind = downpcd.remove_statistical_outlier(nb_neighbors=20, std_ratio=0.2)\n",
    "num3 = len(cld.points)\n",
    "print(f'reduced from {num2} to {num3} points')\n",
    "print(f' {100-(num3/num2 * 100)} % less points')"
   ]
  },
  {
   "cell_type": "code",
   "execution_count": 8,
   "id": "a2372407-21aa-48c5-92fb-aaa91ebbb1b1",
   "metadata": {},
   "outputs": [
    {
     "name": "stdout",
     "output_type": "stream",
     "text": [
      "reduced from 5670210 to 3634209 points\n",
      " 35.906976990270195 % less points\n"
     ]
    }
   ],
   "source": [
    "def pre_processing(pcd: o3d.geometry.PointCloud, z_threshold: float = 26) -> o3d.geometry.PointCloud:\n",
    "    \"\"\"\n",
    "    Filters out points in a point cloud that are below a given height.\n",
    "\n",
    "    Args:\n",
    "    - pcd: An o3d.geometry.PointCloud object.\n",
    "    - z_threshold: The height below which points will be removed.\n",
    "\n",
    "    Returns:\n",
    "    - A filtered o3d.geometry.PointCloud object.\n",
    "    \"\"\"\n",
    "    \n",
    "    # Convert the point cloud to a numpy array\n",
    "    points = np.asarray(pcd.points)\n",
    "    \n",
    "    # Filter out points below the height threshold\n",
    "    filtered_points = points[points[:, 2] > z_threshold]\n",
    "    \n",
    "    # Create a new point cloud from the filtered points\n",
    "    filtered_pcd = o3d.geometry.PointCloud()\n",
    "    filtered_pcd.points = o3d.utility.Vector3dVector(filtered_points)\n",
    "    \n",
    "    return filtered_pcd\n",
    "\n",
    "height_cld = pre_processing(cld)\n",
    "num4 = len(height_cld.points)\n",
    "print(f'reduced from {num3} to {num4} points')\n",
    "print(f' {100-(num4/num3 * 100)} % less points')"
   ]
  },
  {
   "cell_type": "code",
   "execution_count": 45,
   "id": "04c7399c-5a77-4374-ac4d-8367cdcbad76",
   "metadata": {},
   "outputs": [],
   "source": [
    "#o3d.visualization.draw_geometries([height_cld])\n"
   ]
  },
  {
   "cell_type": "code",
   "execution_count": 72,
   "id": "632dfd7c-be79-4568-8412-593557576024",
   "metadata": {},
   "outputs": [
    {
     "name": "stdout",
     "output_type": "stream",
     "text": [
      "[Open3D DEBUG] Precompute neighbors.\n",
      "[Open3D DEBUG] Done Precompute neighbors.                     ] 2%\n",
      "[Open3D DEBUG] Compute Clusters\n",
      "Precompute neighbors.[========[Open3D DEBUG] Done Compute Clusters: 808\n",
      "Precompute neighbors.[========================================] 100%\n",
      "point cloud has 808 clusters======================>] 97%\n"
     ]
    }
   ],
   "source": [
    "# We find clusters\n",
    "with o3d.utility.VerbosityContextManager(o3d.utility.VerbosityLevel.Debug) as cm:\n",
    "    labels = np.array(height_cld.cluster_dbscan(eps=2.0, min_points=10, print_progress=True))\n",
    "max_label = labels.max()\n",
    "print(f\"point cloud has {max_label + 1} clusters\")\n",
    "colors = plt.get_cmap(\"tab20\")(labels / (max_label if max_label > 0 else 1))\n",
    "colors[labels < 0] = 0\n",
    "height_cld.colors = o3d.utility.Vector3dVector(colors[:, :3])\n",
    "#o3d.visualization.draw_geometries([height_cld])"
   ]
  },
  {
   "cell_type": "code",
   "execution_count": 70,
   "id": "e02de781-d012-4f00-99b7-5a55940748d7",
   "metadata": {},
   "outputs": [],
   "source": [
    "o3d.visualization.draw_geometries([height_cld])"
   ]
  },
  {
   "cell_type": "code",
   "execution_count": 68,
   "id": "843f5d26-acfe-4565-a70a-91b1ac8b6bb7",
   "metadata": {},
   "outputs": [
    {
     "data": {
      "text/plain": [
       "257"
      ]
     },
     "execution_count": 68,
     "metadata": {},
     "output_type": "execute_result"
    }
   ],
   "source": [
    "# Get individual point clouds\n",
    "point_clouds = []\n",
    "for cluster_label in range(max_label + 1):\n",
    "    \n",
    "    cluster_indices = np.where(labels == cluster_label)[0]\n",
    "    \n",
    "    cluster_points = height_cld.select_by_index(cluster_indices)\n",
    "\n",
    "    #We only include the individual point cloud if over a certain size\n",
    "    cluster_size = len(cluster_points.points)\n",
    "    if(250 < cluster_size < 5000):\n",
    "        point_clouds.append(cluster_points)\n",
    "len(point_clouds)"
   ]
  },
  {
   "cell_type": "code",
   "execution_count": 71,
   "id": "31b1e45a-f9ef-4bf8-9c2a-bcc9589df469",
   "metadata": {},
   "outputs": [
    {
     "data": {
      "text/plain": [
       "496139"
      ]
     },
     "execution_count": 71,
     "metadata": {},
     "output_type": "execute_result"
    }
   ],
   "source": [
    "\n",
    "# Initialize an empty point cloud for the combined data\n",
    "combined_cloud = o3d.geometry.PointCloud()\n",
    "\n",
    "# Iterate over each individual point cloud and append its data to the combined point cloud\n",
    "for pcd in point_clouds:\n",
    "    combined_cloud += pcd\n",
    "\n",
    "# Visualize the combined point cloud\n",
    "o3d.visualization.draw_geometries([combined_cloud])\n",
    "\n",
    "# Return the number of points in the combined point cloud for reference\n",
    "len(np.asarray(combined_cloud.points))\n"
   ]
  },
  {
   "cell_type": "code",
   "execution_count": 37,
   "id": "f37b0a2e-f996-4074-89e9-3ab76742729c",
   "metadata": {},
   "outputs": [],
   "source": [
    "# Plane estimation using RANSAC from Open3d\n",
    "def RANSAC(point_clouds):\n",
    "    final_cloud = o3d.geometry.PointCloud()\n",
    "    \n",
    "    for pcd in point_clouds: \n",
    "        num_points = len(np.asarray(pcd.points))\n",
    "    \n",
    "        plane_model, inliers = pcd.segment_plane(distance_threshold=0.2, ransac_n=5, num_iterations=5000) \n",
    "        [a,b,c,d] = plane_model\n",
    "        #print(f\"Plane equation: {a:.2f}x + {b:.2f}y + {c:.2f}z + {d:.2f} = 0\")\n",
    "        inlier_cloud = pcd.select_by_index(inliers) \n",
    "        outlier_cloud = pcd.select_by_index(inliers, invert = True)\n",
    "        inlier_cloud.paint_uniform_color([0, 0, 1])\n",
    "    \n",
    "    \n",
    "        inlier_cloud_pts = np.asarray(inlier_cloud.points)\n",
    "\n",
    "        #add new points to final cloud\n",
    "        new_points = np.concatenate((np.asarray(final_cloud.points), inlier_cloud_pts), axis=0)\n",
    "        final_cloud.points = o3d.utility.Vector3dVector(new_points)\n",
    "        \n",
    "    o3d.visualization.draw_geometries([final_cloud])\n",
    "    return final_cloud"
   ]
  },
  {
   "cell_type": "code",
   "execution_count": 39,
   "id": "0472abd6-d300-4372-95b6-2f2eda60590b",
   "metadata": {},
   "outputs": [],
   "source": [
    "final_cloud = RANSAC(point_clouds)"
   ]
  },
  {
   "cell_type": "code",
   "execution_count": 49,
   "id": "7deb293d-be34-43db-a8d8-bc6d750af9fa",
   "metadata": {},
   "outputs": [],
   "source": [
    "#Visualize the detected roof planes\n",
    "height_pcd_np = np.asarray(height_cld.points)\n",
    "final_cloud_np = np.asarray(final_cloud.points)\n",
    "\n",
    "# First set the colors for the point clouds\n",
    "height_cld.colors = o3d.utility.Vector3dVector(np.array([1, 0, 0] * len(height_pcd_np)).reshape(-1, 3))\n",
    "final_cloud.colors = o3d.utility.Vector3dVector(np.array([0, 0, 1] * len(final_cloud_np)).reshape(-1, 3))\n",
    "\n",
    "# Now, concatenate the clouds\n",
    "concatenated_cloud =  final_cloud + height_cld\n",
    "\n",
    "\n",
    "o3d.visualization.draw_geometries([concatenated_cloud], left=100 )\n"
   ]
  },
  {
   "cell_type": "code",
   "execution_count": 14,
   "id": "c92f9635-74c1-4121-a982-f69394ca80db",
   "metadata": {},
   "outputs": [],
   "source": [
    "# Plane estimation using RANSAC from Open3d\n",
    "def RANSAC_individual(point_clouds):\n",
    "    final_clouds = []\n",
    "    planes = []\n",
    "    \n",
    "    for pcd in point_clouds: \n",
    "        num_points = len(np.asarray(pcd.points))\n",
    "    \n",
    "    \n",
    "        plane_model, inliers = pcd.segment_plane(distance_threshold=0.2, ransac_n=5, num_iterations=2000) \n",
    "        [a,b,c,d] = plane_model\n",
    "        #print(f\"Plane equation: {a:.2f}x + {b:.2f}y + {c:.2f}z + {d:.2f} = 0\")\n",
    "        inlier_cloud = pcd.select_by_index(inliers) \n",
    "        outlier_cloud = pcd.select_by_index(inliers, invert = True)\n",
    "        inlier_cloud.paint_uniform_color([0, 0, 1])\n",
    "    \n",
    "    \n",
    "        inlier_cloud_load = np.asarray(inlier_cloud.points)\n",
    "\n",
    "        #make new cloud and add to list\n",
    "        ransac_plane = o3d.geometry.PointCloud()\n",
    "        ransac_plane.points = o3d.utility.Vector3dVector(inlier_cloud_load)\n",
    "        final_clouds.append(ransac_plane)\n",
    "        planes.append(plane_model)\n",
    "    return final_clouds, planes"
   ]
  },
  {
   "cell_type": "code",
   "execution_count": 16,
   "id": "1dd77713-f065-4678-88a6-a94b36766711",
   "metadata": {},
   "outputs": [],
   "source": [
    "final_clouds, planes = RANSAC_individual(point_clouds)"
   ]
  },
  {
   "cell_type": "code",
   "execution_count": 35,
   "id": "0417fccc-fb80-4595-89ac-5784c660cf3e",
   "metadata": {},
   "outputs": [
    {
     "name": "stdout",
     "output_type": "stream",
     "text": [
      "visualizing idx 364\n",
      "Plane equation: -0.00x + -0.02y + 1.00z + 168119.42 = 0\n"
     ]
    }
   ],
   "source": [
    "random_num = np.random.randint(0, len(final_clouds)-1)\n",
    "\n",
    "def visualize_individual_cloud(clouds, planes, idx):\n",
    "    print(f'visualizing idx {idx}')\n",
    "    clouds[idx].paint_uniform_color([0,0,1])\n",
    "    o3d.visualization.draw_geometries([clouds[idx]], window_name=(\"Cloud number \" + str(idx+1)))\n",
    "    [a,b,c,d] = planes[idx]\n",
    "    print(f\"Plane equation: {a:.2f}x + {b:.2f}y + {c:.2f}z + {d:.2f} = 0\")\n",
    "\n",
    "visualize_individual_cloud(final_clouds, planes, idx=random_num)\n",
    "\n",
    "    "
   ]
  },
  {
   "cell_type": "code",
   "execution_count": null,
   "id": "4ce99f8d-3b2f-4b77-8bf0-8d6ff895f142",
   "metadata": {},
   "outputs": [],
   "source": []
  }
 ],
 "metadata": {
  "kernelspec": {
   "display_name": "myenv",
   "language": "python",
   "name": "myenv"
  },
  "language_info": {
   "codemirror_mode": {
    "name": "ipython",
    "version": 3
   },
   "file_extension": ".py",
   "mimetype": "text/x-python",
   "name": "python",
   "nbconvert_exporter": "python",
   "pygments_lexer": "ipython3",
   "version": "3.10.13"
  }
 },
 "nbformat": 4,
 "nbformat_minor": 5
}
