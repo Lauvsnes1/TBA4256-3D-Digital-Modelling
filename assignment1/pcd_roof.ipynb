{
 "cells": [
  {
   "cell_type": "code",
   "execution_count": 1,
   "id": "448395b2-f9d3-4b60-97ee-f941754c5ae1",
   "metadata": {},
   "outputs": [],
   "source": [
    "import laspy\n",
    "import numpy as np\n",
    "from sklearn import linear_model\n",
    "import open3d as o3d\n",
    "import matplotlib.pyplot as plt\n",
    "import os"
   ]
  },
  {
   "cell_type": "code",
   "execution_count": 2,
   "id": "94869d1b-393a-46d7-9abd-fe7b44a739d1",
   "metadata": {},
   "outputs": [],
   "source": [
    "# Load the LAZ file\n",
    "in_file = laspy.read(\"data.laz\")\n",
    "\n",
    "# Get the classification for each point\n",
    "classifications = in_file.points['classification']\n",
    "\n",
    "# Filter out all points who are not class 1 (roofs) - Maybe its better just tp downsample rather that extracting class 1\n",
    "non_ground_indices = classifications == 1\n",
    "filtered_points = in_file.points[non_ground_indices]\n",
    "\n",
    "# Extract the X, Y, and Z coordinates from the FILTERED points\n",
    "x_coords = filtered_points['X']\n",
    "y_coords = filtered_points['Y']\n",
    "z_coords = filtered_points['Z']\n",
    "\n",
    "# Convert them into a 2D numpy array\n",
    "points_np = np.vstack((x_coords, y_coords, z_coords)).T"
   ]
  },
  {
   "cell_type": "code",
   "execution_count": 3,
   "id": "3a1c40a3-d114-4518-b628-015c338ca182",
   "metadata": {},
   "outputs": [
    {
     "name": "stdout",
     "output_type": "stream",
     "text": [
      "points after taking classification = 1: (12358405, 3)\n"
     ]
    }
   ],
   "source": [
    "print(f'points after taking classification = 1: {points_np.shape}')"
   ]
  },
  {
   "cell_type": "code",
   "execution_count": 4,
   "id": "6cc89050-51ae-4281-9294-2e34021bdc93",
   "metadata": {},
   "outputs": [
    {
     "data": {
      "text/plain": [
       "(10815230, 3)"
      ]
     },
     "execution_count": 4,
     "metadata": {},
     "output_type": "execute_result"
    }
   ],
   "source": [
    "\n",
    "# we want to filter out ground points from the dataset\n",
    "# we extract only points over a certain height (1.5m)\n",
    "\n",
    "def pca_ground_filter(points, height_threshold=1500):\n",
    "    # 1. PCA on Point Cloud\n",
    "    mean_point = np.mean(points, axis=0)\n",
    "    centered_points = points - mean_point\n",
    "    covariance_matrix = np.cov(centered_points.T)\n",
    "    eigenvalues, eigenvectors = np.linalg.eig(covariance_matrix)\n",
    "    \n",
    "    # 2. Determine Ground Normal\n",
    "    # The eigenvector corresponding to the smallest eigenvalue\n",
    "    ground_normal = eigenvectors[:, np.argmin(eigenvalues)]\n",
    "    \n",
    "    # If the normal points upwards, we flip it to ensure consistency\n",
    "    if ground_normal[2] < 0:\n",
    "        ground_normal = -ground_normal\n",
    "\n",
    "    # 3. Determine Ground Points\n",
    "    distances = np.dot(centered_points, ground_normal)\n",
    "    ground_height = np.min(distances)\n",
    "    \n",
    "    # 4. Filter Points\n",
    "    above_ground_indices = np.where(distances - ground_height > height_threshold)[0]\n",
    "    \n",
    "    return points[above_ground_indices]\n",
    "\n",
    "\n",
    "filtered_points = pca_ground_filter(points_np)\n",
    "\n",
    "filtered_points.shape"
   ]
  },
  {
   "cell_type": "code",
   "execution_count": 2,
   "id": "4c9bf8a2-3765-40e8-a472-259173a7cbda",
   "metadata": {},
   "outputs": [
    {
     "name": "stdout",
     "output_type": "stream",
     "text": [
      "Number of points before downsampling:  22754456\n"
     ]
    }
   ],
   "source": [
    "# Convert to open3d point cloud and save as PCD\n",
    "#pcd = o3d.geometry.PointCloud()\n",
    "#pcd.points = o3d.utility.Vector3dVector(filtered_points)\n",
    "\n",
    "pcd = o3d.io.read_point_cloud(os.path.join(\"dataPCD.pcd\"))\n",
    "#o3d.io.write_point_cloud(\"output.pcd\", pcd)\n",
    "#o3d.visualization.draw_geometries([pcd])\n",
    "\n",
    "num = len(pcd.points)\n",
    "print(\"Number of points before downsampling: \", num)"
   ]
  },
  {
   "cell_type": "code",
   "execution_count": 3,
   "id": "eab4c98f-9523-4ccb-9dbf-6b02294879ba",
   "metadata": {},
   "outputs": [
    {
     "name": "stdout",
     "output_type": "stream",
     "text": [
      "Number of points after downsampling:  11405690\n",
      "49.87491680750355 % less points\n"
     ]
    }
   ],
   "source": [
    "# we downsample the pointscloud\n",
    "downpcd = pcd.voxel_down_sample(voxel_size=0.25)\n",
    "num2 = len(downpcd.points)\n",
    "print(\"Number of points after downsampling: \", num2)\n",
    "print(100-(num2/num * 100),\"% less points\")\n",
    "#o3d.visualization.draw_geometries([downpcd])"
   ]
  },
  {
   "cell_type": "code",
   "execution_count": 4,
   "id": "e99136d1-d134-4b29-94ba-a537d2cd15c6",
   "metadata": {},
   "outputs": [],
   "source": [
    "#statistical outlier removal\n",
    "\n",
    "cld, ind = downpcd.remove_statistical_outlier(nb_neighbors=20, std_ratio=0.2)\n",
    "\n"
   ]
  },
  {
   "cell_type": "code",
   "execution_count": 1,
   "id": "13797eda-3331-4c5e-8fce-c7656edac76e",
   "metadata": {},
   "outputs": [
    {
     "ename": "NameError",
     "evalue": "name 'cld' is not defined",
     "output_type": "error",
     "traceback": [
      "\u001b[0;31m---------------------------------------------------------------------------\u001b[0m",
      "\u001b[0;31mNameError\u001b[0m                                 Traceback (most recent call last)",
      "Cell \u001b[0;32mIn[1], line 1\u001b[0m\n\u001b[0;32m----> 1\u001b[0m num3 \u001b[38;5;241m=\u001b[39m \u001b[38;5;28mlen\u001b[39m(\u001b[43mcld\u001b[49m\u001b[38;5;241m.\u001b[39mpoints)\n\u001b[1;32m      2\u001b[0m \u001b[38;5;28mprint\u001b[39m(\u001b[38;5;124mf\u001b[39m\u001b[38;5;124m'\u001b[39m\u001b[38;5;124mnum of ponts after statistical outlier removal \u001b[39m\u001b[38;5;132;01m{\u001b[39;00mnum3\u001b[38;5;132;01m}\u001b[39;00m\u001b[38;5;124m'\u001b[39m)\n\u001b[1;32m      3\u001b[0m \u001b[38;5;28mprint\u001b[39m(\u001b[38;5;241m100\u001b[39m\u001b[38;5;241m-\u001b[39m(num3\u001b[38;5;241m/\u001b[39mnum2 \u001b[38;5;241m*\u001b[39m \u001b[38;5;241m100\u001b[39m),\u001b[38;5;124m\"\u001b[39m\u001b[38;5;132;01m% le\u001b[39;00m\u001b[38;5;124mss points\u001b[39m\u001b[38;5;124m\"\u001b[39m)\n",
      "\u001b[0;31mNameError\u001b[0m: name 'cld' is not defined"
     ]
    }
   ],
   "source": [
    "num3 = len(cld.points)\n",
    "print(f'num of ponts after statistical outlier removal {num3}')\n",
    "print(100-(num3/num2 * 100),\"% less points\")\n",
    "#o3d.visualization.draw_geometries([cld])"
   ]
  },
  {
   "cell_type": "code",
   "execution_count": 12,
   "id": "b3593cff-c08f-48db-a864-efb5e09dc70f",
   "metadata": {},
   "outputs": [
    {
     "name": "stdout",
     "output_type": "stream",
     "text": [
      "number of points after height removal: 6527021\n",
      "28.140013673941453 % less points\n"
     ]
    }
   ],
   "source": [
    "def filter_points_below_height(pcd, height_threshold):\n",
    "    \"\"\"\n",
    "    Filters out points in a point cloud that are below a given height.\n",
    "    Args:\n",
    "    - pcd: An o3d.geometry.PointCloud object.\n",
    "    - height_threshold: The height below which points will be removed.\n",
    "    \n",
    "    Returns:\n",
    "    - An o3d.geometry.PointCloud object with the points below height_threshold removed.\n",
    "    \"\"\"\n",
    "    \n",
    "    # Convert the point cloud to a numpy array\n",
    "    points = np.asarray(pcd.points)\n",
    "    \n",
    "    # Filter out points below the height threshold\n",
    "    filtered_points = points[points[:, 2] >= height_threshold]\n",
    "    \n",
    "    # Create a new point cloud from the filtered points\n",
    "    filtered_pcd = o3d.geometry.PointCloud()\n",
    "    filtered_pcd.points = o3d.utility.Vector3dVector(filtered_points)\n",
    "    \n",
    "    return filtered_pcd\n",
    "\n",
    "\n",
    "# Filter out points below a height of, for example, 1.5\n",
    "height_threshold = 25\n",
    "filtered_pcd = filter_points_below_height(cld, height_threshold)\n",
    "\n",
    "num4 = len(filtered_pcd.points)\n",
    "print(f'number of points after height removal: {num4}')\n",
    "print(100-(num4/num3 * 100),\"% less points\")"
   ]
  },
  {
   "cell_type": "code",
   "execution_count": null,
   "id": "0ed00e36-0759-476a-8a5c-a457c46314da",
   "metadata": {},
   "outputs": [],
   "source": [
    "#clustering\n",
    "cld = filtered_pcd\n",
    "\n",
    "with o3d.utility.VerbosityContextManager(o3d.utility.VerbosityLevel.Debug) as cm:\n",
    "    labels = np.array(cld.cluster_dbscan(eps=2, min_points=50, print_progress=True))\n",
    "max_label = labels.max()\n",
    "print(f\"point cloud has {max_label + 1} clusters\")\n",
    "colors = plt.get_cmap(\"tab20\")(labels / (max_label if max_label > 0 else 1))\n",
    "colors[labels < 0] = 0\n",
    "cld.colors = o3d.utility.Vector3dVector(colors[:, :3])\n",
    "o3d.visualization.draw_geometries([cld])"
   ]
  },
  {
   "cell_type": "code",
   "execution_count": null,
   "id": "645d0b3b-faf4-445f-8ea5-554494446dfe",
   "metadata": {},
   "outputs": [],
   "source": [
    "# create individual arrays for clusters\n",
    "individual_point_clouds = []\n",
    "\n",
    "for cluster_label in range(len(labels):\n",
    "    \n",
    "    cluster_indices = np.where(labels == cluster_label)[0]\n",
    "    \n",
    "    cluster_points = cld.select_by_index(cluster_indices)\n",
    "    \n",
    "    individual_point_clouds.append(cluster_points)"
   ]
  },
  {
   "cell_type": "code",
   "execution_count": null,
   "id": "2128fb88-031d-4e5b-831a-5dd5ce2a6bb4",
   "metadata": {},
   "outputs": [],
   "source": [
    "#Draw first cluster \n",
    "\n",
    "firstCld = individual_point_clouds[0].points\n",
    "first_cld = o3d.geometry.PointCloud(firstCld) #This actually creates the point cloud from the data in the array\n",
    "o3d.visualization.draw_geometries([first_cld])"
   ]
  }
 ],
 "metadata": {
  "kernelspec": {
   "display_name": "myenv",
   "language": "python",
   "name": "myenv"
  },
  "language_info": {
   "codemirror_mode": {
    "name": "ipython",
    "version": 3
   },
   "file_extension": ".py",
   "mimetype": "text/x-python",
   "name": "python",
   "nbconvert_exporter": "python",
   "pygments_lexer": "ipython3",
   "version": "3.10.13"
  }
 },
 "nbformat": 4,
 "nbformat_minor": 5
}
